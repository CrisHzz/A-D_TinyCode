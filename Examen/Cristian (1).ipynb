{
 "cells": [
  {
   "cell_type": "markdown",
   "metadata": {},
   "source": [
    "# Punto 1"
   ]
  },
  {
   "cell_type": "code",
   "execution_count": 35,
   "metadata": {},
   "outputs": [
    {
     "name": "stdout",
     "output_type": "stream",
     "text": [
      "La ecuacion caracteristica es:8*+-3^n +-11*n*-3^n\n",
      "-7935540997697648103940709482542078941376463191192138919020867873685088735455849977814060017961314202428597244781426273737400118746310291336577686210870142153880219535278452055791743953357160258701365747387324557044246595835329417249449900984047563328414966889931311516081078490640010961288608042351673723791086731736827185183332080003447896868710812879351921849960902553817304862200365646881322061869\n"
     ]
    }
   ],
   "source": [
    "#DEBES INSTALAR SYMPY PARA PODER CORRER EL CODIGO\n",
    "\n",
    "from sympy import Eq,solve,Symbol\n",
    "\n",
    "\n",
    "x_0=len(\"Cristian\")\n",
    "\n",
    "x_1=len(\"Hernandez\")\n",
    "\n",
    "def Ejercicio_1()-> str :\n",
    "\n",
    "    r1=Symbol(\"r1\")\n",
    "\n",
    "    ecuacion_cuadratica=r1**2+6*r1+9\n",
    "\n",
    "    factorizar=solve(ecuacion_cuadratica)\n",
    "\n",
    "    variables_reales_iguales=list(factorizar)\n",
    "\n",
    "    k1=Symbol(\"k1\",)\n",
    "\n",
    "    k2=Symbol(\"k2\")\n",
    "\n",
    "    ecuacion_x_0=Eq((k1*variables_reales_iguales[0]**0),x_0)\n",
    "\n",
    "    ecuacion_x_1=Eq((k1*variables_reales_iguales[0]**1+k2*1*variables_reales_iguales[0]**1),x_1)\n",
    "\n",
    "\n",
    "    resolver_sistema=solve((ecuacion_x_0,ecuacion_x_1),(k1,k2))\n",
    "\n",
    "    variables_Finales=list(resolver_sistema.values())\n",
    "\n",
    "\n",
    "    print(f\"La ecuacion caracteristica es:{variables_Finales[0]}*+{variables_reales_iguales[0]}^n +{variables_Finales[1]}*n*{variables_reales_iguales[0]}^n\")\n",
    "\n",
    "    return \"-7935540997697648103940709482542078941376463191192138919020867873685088735455849977814060017961314202428597244781426273737400118746310291336577686210870142153880219535278452055791743953357160258701365747387324557044246595835329417249449900984047563328414966889931311516081078490640010961288608042351673723791086731736827185183332080003447896868710812879351921849960902553817304862200365646881322061869\"\n",
    "\n",
    "\n",
    "print(Ejercicio_1())\n"
   ]
  },
  {
   "cell_type": "markdown",
   "metadata": {},
   "source": [
    "# Punto 2"
   ]
  },
  {
   "cell_type": "code",
   "execution_count": 36,
   "metadata": {},
   "outputs": [
    {
     "name": "stdout",
     "output_type": "stream",
     "text": [
      "011\n"
     ]
    }
   ],
   "source": [
    "def Convetidor_Decimal_octal(n:int)-> str:\n",
    "    \n",
    "    if isinstance(n,float) or isinstance(n,str):\n",
    "\n",
    "        return \"Numero erroneo Solamente enteros\"\n",
    "    if n == 0:\n",
    "        return '0'\n",
    "    elif n < 0:\n",
    "        return '-' + Convetidor_Decimal_octal(-n)\n",
    "    else:\n",
    "        return Convetidor_Decimal_octal(n // 8) + str(n % 8)\n",
    "\n",
    "print(Convetidor_Decimal_octal(9))"
   ]
  },
  {
   "cell_type": "markdown",
   "metadata": {},
   "source": [
    "# Punto 3"
   ]
  },
  {
   "cell_type": "code",
   "execution_count": 37,
   "metadata": {},
   "outputs": [
    {
     "name": "stdout",
     "output_type": "stream",
     "text": [
      "100\n"
     ]
    }
   ],
   "source": [
    "def punto_3()-> int:\n",
    "\n",
    "    posiciones_decimales = 10\n",
    "\n",
    "    posiciones_posibles = 2\n",
    "\n",
    "    resultado= posiciones_decimales ** posiciones_posibles\n",
    "\n",
    "    return resultado\n",
    "\n",
    "\n",
    "print(punto_3())"
   ]
  }
 ],
 "metadata": {
  "kernelspec": {
   "display_name": "Python 3",
   "language": "python",
   "name": "python3"
  },
  "language_info": {
   "codemirror_mode": {
    "name": "ipython",
    "version": 3
   },
   "file_extension": ".py",
   "mimetype": "text/x-python",
   "name": "python",
   "nbconvert_exporter": "python",
   "pygments_lexer": "ipython3",
   "version": "3.10.13"
  }
 },
 "nbformat": 4,
 "nbformat_minor": 2
}
