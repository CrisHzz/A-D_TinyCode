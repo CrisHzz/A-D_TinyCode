{
 "cells": [
  {
   "cell_type": "markdown",
   "metadata": {},
   "source": [
    "# Recorrer matriz en zigzag recursiva\n",
    "\n",
    "Tenemos una matriz de dimensiones cuadras en la cual se debe de recorar en forma de zigzag pero diagonalmente, por lo tanto al existir un indice en cierta posicion diagonal, su proxima debera de ir en direccion opuesta pero obviamente en forma diagonal, Empezando todo esto desde el elemento [n][n]\n",
    "\n",
    "![MATRIZ](Matrizdireccion.png)\n",
    "\n",
    "\n",
    "\n",
    "La funcion desarollada tiene de nombre `zigzag_matrix` con los parametros matrix:list, row:int, column:int, direction:str que sirven para poder recorrerla adecuadamente\n",
    "\n",
    "-Matrix es la matriz a recorrer\n",
    "\n",
    "-row Fila inicial\n",
    "\n",
    "-column columna inicial\n",
    "\n",
    "-direction la dirreccion del recorrido si el [n][n] sera arriba o abajo \"up\" o \"down\n",
    "\n",
    "La parte importante y donde funciona el programa es con el uso de las dirrecciones pues dependiendo de la posicion se cambiara de direccion a donde mas convenga para poder obtener el movimiento especifico por la foto, mas detalles en el codiguito de abajo\n",
    "\n",
    "                                        I\n",
    "                                        I\n",
    "                                        I\n",
    "                                        v"
   ]
  },
  {
   "cell_type": "code",
   "execution_count": 21,
   "metadata": {},
   "outputs": [
    {
     "name": "stdout",
     "output_type": "stream",
     "text": [
      "1 4 2 3 5 7 8 6 9 \n",
      "\n",
      "\n",
      "\n",
      "\n",
      "\n",
      "\n",
      "\n",
      "\n",
      "None\n"
     ]
    }
   ],
   "source": [
    "def zigzag_matrix(matrix:list, row:int, column:int, direction:str)-> None:\n",
    "    #Caso base 1: Si la matriz a ingresar esta vacia\n",
    "    if not matrix:\n",
    "        return []\n",
    "    \n",
    "    # Verificar auxiliar si la fila y columna se encuentran dentro de los límites de la matriz\n",
    "    if row < 0 or column < 0 or row >= len(matrix) or column >= len(matrix[0]):\n",
    "        return\n",
    "    \n",
    "    #Verificar si no es cuadrada\n",
    "    if len(matrix) != len(matrix[0]):\n",
    "        raise Exception(\"The matrix have to be square\")\n",
    "    \n",
    "\n",
    "    #Mostrar el elemento de la posición actual\n",
    "\n",
    "    print(matrix[row][column], end=\" \")\n",
    "\n",
    "    #Cuando el parametro es up\n",
    "    if direction == \"up\":\n",
    "        # Si se esta en la ultima fila se cambia a down se mueve a la siguiente pero la misma columna\n",
    "        if column == len(matrix[0]) - 1:\n",
    "            zigzag_matrix(matrix, row + 1, column, \"down\")\n",
    "        #Si estamos en la primera fila se cambia a down y va para la proxima columna pero misma fila  \n",
    "        elif row == 0:\n",
    "            zigzag_matrix(matrix, row, column + 1, \"down\")\n",
    "        #En los demas condiciones se mueve a una diagonal superior derecha    \n",
    "        else:\n",
    "            zigzag_matrix(matrix, row - 1, column + 1, \"up\")\n",
    "    \n",
    "    #Ahora con dirrecion down (El ejercicio)\n",
    "    else:\n",
    "        #En primera fila se cambia a up y se mueve a la siguiente columna pero misma fila\n",
    "        if row == len(matrix) - 1:\n",
    "            zigzag_matrix(matrix, row, column + 1, \"up\")\n",
    "        #En primera columna se cambia a up y mueve a la siguiente fila y con  la misma columna   \n",
    "        elif column == 0:\n",
    "            zigzag_matrix(matrix, row + 1, column, \"up\")\n",
    "        #Se va para la diagonal inferior izquierda en cualquier otro caso   \n",
    "        else:\n",
    "            zigzag_matrix(matrix, row + 1, column - 1, \"down\")\n",
    "\n",
    "\n",
    "        \n",
    "    print(\"\")       \n",
    "\n",
    "#Probemosla!!!!\n",
    "    \n",
    "matrix: list = [\n",
    "    [1, 2, 3,],\n",
    "    [4, 5, 6,],\n",
    "    [7, 8, 9,]\n",
    "]\n",
    "print(zigzag_matrix(matrix, 0, 0, \"down\"))\n",
    "\n"
   ]
  }
 ],
 "metadata": {
  "kernelspec": {
   "display_name": "Python 3",
   "language": "python",
   "name": "python3"
  },
  "language_info": {
   "codemirror_mode": {
    "name": "ipython",
    "version": 3
   },
   "file_extension": ".py",
   "mimetype": "text/x-python",
   "name": "python",
   "nbconvert_exporter": "python",
   "pygments_lexer": "ipython3",
   "version": "3.11.4"
  }
 },
 "nbformat": 4,
 "nbformat_minor": 2
}
