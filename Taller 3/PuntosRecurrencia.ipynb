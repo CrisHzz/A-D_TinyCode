{
 "cells": [
  {
   "cell_type": "markdown",
   "metadata": {},
   "source": [
    "# Puntos de recurrencia\n",
    "\n",
    "## 1) Ecuacion\n",
    "$$ a_n -6a_{n-1} + 9a_{n-2} = 0 , n=>2, a_0=5,a_1=12 $$"
   ]
  },
  {
   "cell_type": "markdown",
   "metadata": {},
   "source": [
    "**Esta ecuacion ya esta organizada de mayor a menor por lo tanto no hace falta hacer este proceso**\n",
    "\n",
    "**Lo siguiente es aplicar la formula cuadratica para poder factorizar los coeficientes**\n",
    "\n",
    "$$ ax^{2}+x+c $$\n",
    "\n",
    "$$ x^{2}-6x+9 $$"
   ]
  },
  {
   "cell_type": "code",
   "execution_count": 15,
   "metadata": {},
   "outputs": [
    {
     "data": {
      "text/plain": [
       "[3]"
      ]
     },
     "execution_count": 15,
     "metadata": {},
     "output_type": "execute_result"
    }
   ],
   "source": [
    "from sympy import symbols,solve,Eq\n",
    "\n",
    "x=symbols(\"x\")\n",
    "\n",
    "factorizacion=solve(x**2-(6*x)+9)\n",
    "\n",
    "factorizacion\n"
   ]
  },
  {
   "cell_type": "markdown",
   "metadata": {},
   "source": [
    "**Tenemos un solo resultado que es 3 por lo tanto es una solucion con raices iguales**\n",
    "\n",
    "$$ a_n=k_1r_1^{n}+k_2nr_1^{n}$$\n",
    "\n",
    "**Nos estan dando 2 casos base para sacar nuestra ecuacion 2x2 a_0=5 , a_1=12**"
   ]
  },
  {
   "cell_type": "code",
   "execution_count": 32,
   "metadata": {},
   "outputs": [],
   "source": [
    "a_0=5\n",
    "\n",
    "a_1=12\n",
    "\n",
    "k1=symbols(\"k1\")\n",
    "\n",
    "k2=symbols(\"k2\")\n",
    "\n",
    "ecuacion_1=Eq((k1*factorizacion[0]**a_0 + k2*a_0*factorizacion[0]**a_0),(a_0))\n",
    "\n",
    "ecuacion_2=Eq((k1*factorizacion[0]**a_1 + k2*a_1*factorizacion[0]**a_1),(a_1))\n"
   ]
  },
  {
   "cell_type": "markdown",
   "metadata": {},
   "source": [
    "**Con esto ya tenemos nuestras ecuaciones ya planeadas solo es resolver y remplazar en la ecuacion**"
   ]
  },
  {
   "cell_type": "code",
   "execution_count": 33,
   "metadata": {},
   "outputs": [
    {
     "data": {
      "text/plain": [
       "[43720/1240029, -3641/1240029]"
      ]
     },
     "execution_count": 33,
     "metadata": {},
     "output_type": "execute_result"
    }
   ],
   "source": [
    "k_constantes=solve((ecuacion_1,ecuacion_2),(k1,k2))\n",
    "\n",
    "k_constantes=list(k_constantes.values())\n",
    "\n",
    "k_constantes"
   ]
  },
  {
   "cell_type": "markdown",
   "metadata": {},
   "source": [
    "**Listo , ahora podemos hallar nuestra ecuacion general**\n",
    "\n",
    "$$ a_n=k_1r_1^{n}+k_2nr_1^{n}$$\n"
   ]
  },
  {
   "cell_type": "code",
   "execution_count": 4,
   "metadata": {},
   "outputs": [
    {
     "name": "stdout",
     "output_type": "stream",
     "text": [
      "a_n= 43720/1240029*3^n + -3641/1240029*n*3^n\n"
     ]
    }
   ],
   "source": [
    "general=f\"a_n= {k_constantes[0]}*{factorizacion[0]}^n + {k_constantes[1]}*n*{factorizacion[0]}^n\"\n",
    "\n",
    "print(general)\n"
   ]
  },
  {
   "cell_type": "markdown",
   "metadata": {},
   "source": [
    "**Ahora nos piden cuando n= 151145.018 que es lo mas acercado a 151’145.018 (Esa coma esta rara)**"
   ]
  },
  {
   "cell_type": "code",
   "execution_count": 35,
   "metadata": {},
   "outputs": [
    {
     "name": "stdout",
     "output_type": "stream",
     "text": [
      "-1.40533853771182e+72117\n"
     ]
    }
   ],
   "source": [
    "def ecuacion_n(n:float)->float:\n",
    "\n",
    "    return k_constantes[0]*((factorizacion[0])**n) + k_constantes[1]*n*((factorizacion[0])**n)\n",
    "\n",
    "n=151145.018\n",
    "print(ecuacion_n(n))"
   ]
  },
  {
   "cell_type": "markdown",
   "metadata": {},
   "source": [
    "# Puntos de recurrencia\n",
    "\n",
    "## 2) Ecuacion\n",
    "$$ a_n + 2a_{n-1} + 2a_{n-2} = 0 , n=>2, a_0=1,a_1=3 $$"
   ]
  },
  {
   "cell_type": "markdown",
   "metadata": {},
   "source": [
    "**Lo siguiente es aplicar la formula cuadratica para poder factorizar los coeficientes**\n",
    "\n",
    "$$ x^{2} + 2x + 2 $$"
   ]
  },
  {
   "cell_type": "code",
   "execution_count": 1,
   "metadata": {},
   "outputs": [
    {
     "data": {
      "text/plain": [
       "[-1 - I, -1 + I]"
      ]
     },
     "execution_count": 1,
     "metadata": {},
     "output_type": "execute_result"
    }
   ],
   "source": [
    "from sympy import symbols,solve,Eq\n",
    "\n",
    "x=symbols(\"x\")\n",
    "\n",
    "factorizacion=solve(x**2+2*x+2)\n",
    "\n",
    "factorizacion"
   ]
  },
  {
   "cell_type": "markdown",
   "metadata": {},
   "source": [
    "**Tenemos que el resultado de las raices nos da un numero IMAGINARIO, por lo tanto recurriremos a usa la formula**\n",
    "\n",
    "$$Z_{n} = \\overline{Z}_{1} + \\overline{Z}_{2}$$\n",
    "\n",
    "**Por tanto, podemos concluir con que la recurrencia no tiene solucion en los numero s reales y nos quedaria de la siguiente forma**\n",
    "\n",
    "$$Z_{n} = (-1-I)\\overline{Z}_{1} + (-1+I)\\overline{Z}_{2}$$\n",
    "\n",
    "**Entonces, tenemos lo siguiente**\n",
    "\n",
    "**Orden = 2**\n",
    "\n",
    "**Grado 1**\n",
    "\n",
    "**Homogeneo**\n",
    "\n",
    "**Constante**\n",
    "\n",
    "\n",
    "**Debido a que la raiz nos da un numero imaginario, no podemos hacer el codigo de forma recursiva debido a que no nos es posible operar en los reales**"
   ]
  }
 ],
 "metadata": {
  "kernelspec": {
   "display_name": "MiEntorno",
   "language": "python",
   "name": "mientorno"
  },
  "language_info": {
   "codemirror_mode": {
    "name": "ipython",
    "version": 3
   },
   "file_extension": ".py",
   "mimetype": "text/x-python",
   "name": "python",
   "nbconvert_exporter": "python",
   "pygments_lexer": "ipython3",
   "version": "3.6.10"
  }
 },
 "nbformat": 4,
 "nbformat_minor": 2
}
