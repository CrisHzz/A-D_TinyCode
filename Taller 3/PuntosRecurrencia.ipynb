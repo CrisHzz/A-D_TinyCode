{
 "cells": [
  {
   "cell_type": "markdown",
   "metadata": {},
   "source": [
    "# Puntos de recurrencia Sin recursividad\n",
    "\n",
    "## 6) Ecuacion \n",
    "$$ a_n -6a_{n-1} + 9a_{n-2} = 0 , n=>2, a_0=5,a_1=12 $$"
   ]
  },
  {
   "cell_type": "markdown",
   "metadata": {},
   "source": [
    "**Esta ecuacion ya esta organizada de mayor a menor por lo tanto no hace falta hacer este proceso**\n",
    "\n",
    "**Lo siguiente es aplicar la formula cuadratica para poder factorizar los coeficientes**\n",
    "\n",
    "$$ ax^{2}+x+c $$\n",
    "\n",
    "$$ x^{2}-6x+9 $$"
   ]
  },
  {
   "cell_type": "code",
<<<<<<< HEAD
   "execution_count": 15,
=======
   "execution_count": 21,
>>>>>>> b0899573ce8d03addcb4d28f06b247c41a53fd87
   "metadata": {},
   "outputs": [
    {
     "data": {
      "text/plain": [
       "[3]"
      ]
     },
<<<<<<< HEAD
     "execution_count": 15,
=======
     "execution_count": 21,
>>>>>>> b0899573ce8d03addcb4d28f06b247c41a53fd87
     "metadata": {},
     "output_type": "execute_result"
    }
   ],
   "source": [
    "from sympy import symbols,solve,Eq\n",
    "\n",
    "x=symbols(\"x\")\n",
    "\n",
    "factorizacion=solve(x**2-(6*x)+9)\n",
    "\n",
    "factorizacion\n"
   ]
  },
  {
   "cell_type": "markdown",
   "metadata": {},
   "source": [
    "**Tenemos un solo resultado que es 3 por lo tanto es una solucion con raices iguales**\n",
    "\n",
    "$$ a_n=k_1r_1^{n}+k_2nr_1^{n}$$\n",
    "\n",
    "**Nos estan dando 2 casos base para sacar nuestra ecuacion 2x2 a_0=5 , a_1=12**"
   ]
  },
  {
   "cell_type": "code",
<<<<<<< HEAD
   "execution_count": 32,
=======
   "execution_count": 22,
>>>>>>> b0899573ce8d03addcb4d28f06b247c41a53fd87
   "metadata": {},
   "outputs": [],
   "source": [
    "nombre=len(\"cristian\")\n",
    "\n",
    "a_0=5*nombre\n",
    "\n",
    "a_1=12*nombre\n",
    "\n",
    "k1=symbols(\"k1\")\n",
    "\n",
    "k2=symbols(\"k2\")\n",
    "\n",
    "ecuacion_1=Eq((k1*factorizacion[0]**a_0 + k2*a_0*factorizacion[0]**a_0),(a_0))\n",
    "\n",
    "ecuacion_2=Eq((k1*factorizacion[0]**a_1 + k2*a_1*factorizacion[0]**a_1),(a_1))\n"
   ]
  },
  {
   "cell_type": "markdown",
   "metadata": {},
   "source": [
    "**Con esto ya tenemos nuestras ecuaciones ya planeadas solo es resolver y remplazar en la ecuacion**"
   ]
  },
  {
   "cell_type": "code",
<<<<<<< HEAD
   "execution_count": 33,
=======
   "execution_count": 23,
>>>>>>> b0899573ce8d03addcb4d28f06b247c41a53fd87
   "metadata": {},
   "outputs": [
    {
     "data": {
      "text/plain": [
       "[83735621284377685954161843200/14846266029317198836441267112589913205410504749,\n",
       " -872246055045600895355852531/14846266029317198836441267112589913205410504749]"
      ]
     },
<<<<<<< HEAD
     "execution_count": 33,
=======
     "execution_count": 23,
>>>>>>> b0899573ce8d03addcb4d28f06b247c41a53fd87
     "metadata": {},
     "output_type": "execute_result"
    }
   ],
   "source": [
    "k_constantes=solve((ecuacion_1,ecuacion_2),(k1,k2))\n",
    "\n",
    "k_constantes=list(k_constantes.values())\n",
    "\n",
    "k_constantes"
   ]
  },
  {
   "cell_type": "markdown",
   "metadata": {},
   "source": [
    "**Listo , ahora podemos hallar nuestra ecuacion general**\n",
    "\n",
    "$$ a_n=k_1r_1^{n}+k_2nr_1^{n}$$\n"
   ]
  },
  {
   "cell_type": "code",
<<<<<<< HEAD
   "execution_count": 4,
=======
   "execution_count": 24,
>>>>>>> b0899573ce8d03addcb4d28f06b247c41a53fd87
   "metadata": {},
   "outputs": [
    {
     "name": "stdout",
     "output_type": "stream",
     "text": [
      "a_n= 83735621284377685954161843200/14846266029317198836441267112589913205410504749*3^n + -872246055045600895355852531/14846266029317198836441267112589913205410504749*n*3^n\n"
     ]
    }
   ],
   "source": [
    "general=f\"a_n= {k_constantes[0]}*{factorizacion[0]}^n + {k_constantes[1]}*n*{factorizacion[0]}^n\"\n",
    "\n",
    "print(general)\n"
   ]
  },
  {
   "cell_type": "markdown",
   "metadata": {},
   "source": [
    "**Ahora nos piden cuando n= 151145.018 que es lo mas acercado a 151145018 (Mi profesor de fisica me recomendo tormarlo de esa manera)**"
   ]
  },
  {
   "cell_type": "code",
<<<<<<< HEAD
   "execution_count": 35,
=======
   "execution_count": 25,
   "metadata": {},
   "outputs": [],
   "source": [
    "\n",
    "def ecuacion_n(n:float)->float:\n",
    "\n",
    "    return k_constantes[0]*((factorizacion[0])**n) + k_constantes[1]*n*((factorizacion[0])**n)\n",
    "\n"
   ]
  },
  {
   "cell_type": "markdown",
   "metadata": {},
   "source": [
    "**Tenemos un numero muy grande y cuando lo metemos en la funcion facilmente se necesita aumentar un limite a 50000000 numeros para poder visualizarse, por lo tante vamos a normalizar el numero para trabajar con uno equivalente pero mas pequeño**"
   ]
  },
  {
   "cell_type": "code",
   "execution_count": 26,
>>>>>>> b0899573ce8d03addcb4d28f06b247c41a53fd87
   "metadata": {},
   "outputs": [
    {
     "name": "stdout",
     "output_type": "stream",
     "text": [
      "0.151145018\n"
     ]
    }
   ],
   "source": [
    "n = 151145018\n",
    "max_value = 1000000000  \n",
    "\n",
    "normalizado = n / max_value\n",
    "\n",
    "print(normalizado)\n"
   ]
  },
  {
   "cell_type": "code",
   "execution_count": 27,
   "metadata": {},
   "outputs": [
    {
     "name": "stdout",
     "output_type": "stream",
     "text": [
      "6.64849283865387e-18\n"
     ]
    }
   ],
   "source": [
    "print(ecuacion_n(normalizado))"
   ]
  },
  {
   "cell_type": "markdown",
   "metadata": {},
   "source": [
    "**Este seria nuestro numero n = 151145018 normalizandolo en la ecuacion de recurrencia, conociendo que esta normalizado para poder mejor visualizacion y operatividad**\n"
   ]
  },
  {
   "cell_type": "markdown",
   "metadata": {},
   "source": [
    "## Modo recursivo de la ecuacion de recurrencia"
   ]
  },
  {
   "cell_type": "markdown",
   "metadata": {},
   "source": [
    "# Puntos de recurrencia\n",
    "\n",
    "## 2) Ecuacion\n",
    "$$ a_n + 2a_{n-1} + 2a_{n-2} = 0 , n=>2, a_0=1,a_1=3 $$"
   ]
  },
  {
   "cell_type": "markdown",
   "metadata": {},
   "source": [
    "**Lo siguiente es aplicar la formula cuadratica para poder factorizar los coeficientes**\n",
    "\n",
    "$$ x^{2} + 2x + 2 $$"
   ]
  },
  {
   "cell_type": "code",
   "execution_count": 1,
   "metadata": {},
   "outputs": [
    {
     "data": {
      "text/plain": [
       "[-1 - I, -1 + I]"
      ]
     },
     "execution_count": 1,
     "metadata": {},
     "output_type": "execute_result"
    }
   ],
   "source": [
    "from sympy import symbols,solve,Eq\n",
    "\n",
    "x=symbols(\"x\")\n",
    "\n",
    "factorizacion=solve(x**2+2*x+2)\n",
    "\n",
    "factorizacion"
   ]
  },
  {
   "cell_type": "markdown",
   "metadata": {},
   "source": [
    "**Tenemos que el resultado de las raices nos da un numero IMAGINARIO, por lo tanto recurriremos a usa la formula**\n",
    "\n",
    "$$Z_{n} = \\overline{Z}_{1} + \\overline{Z}_{2}$$\n",
    "\n",
    "**Por tanto, podemos concluir con que la recurrencia no tiene solucion en los numero s reales y nos quedaria de la siguiente forma**\n",
    "\n",
    "$$Z_{n} = (-1-I)\\overline{Z}_{1} + (-1+I)\\overline{Z}_{2}$$\n",
    "\n",
    "**Entonces, tenemos lo siguiente**\n",
    "\n",
    "**Orden = 2**\n",
    "\n",
    "**Grado 1**\n",
    "\n",
    "**Homogeneo**\n",
    "\n",
    "**Constante**\n",
    "\n",
    "\n",
    "**Debido a que la raiz nos da un numero imaginario, no podemos hacer el codigo de forma recursiva debido a que no nos es posible operar en los reales**"
   ]
  }
 ],
 "metadata": {
  "kernelspec": {
   "display_name": "MiEntorno",
   "language": "python",
   "name": "mientorno"
  },
  "language_info": {
   "codemirror_mode": {
    "name": "ipython",
    "version": 3
   },
   "file_extension": ".py",
   "mimetype": "text/x-python",
   "name": "python",
   "nbconvert_exporter": "python",
   "pygments_lexer": "ipython3",
   "version": "3.6.10"
  }
 },
 "nbformat": 4,
 "nbformat_minor": 2
}
