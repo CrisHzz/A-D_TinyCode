{
 "cells": [
  {
   "cell_type": "markdown",
   "metadata": {},
   "source": [
    "# Ejercicio numero 4"
   ]
  },
  {
   "cell_type": "code",
   "execution_count": 25,
   "metadata": {},
   "outputs": [
    {
     "name": "stdout",
     "output_type": "stream",
     "text": [
      "6\n"
     ]
    }
   ],
   "source": [
    "import numpy as np\n",
    "\n",
    "def absolute_difference(a:list, b:list)-> float:\n",
    "    \n",
    "    a = np.array(a)\n",
    "    b = np.array(b)\n",
    "\n",
    "    for i, j in zip(a, b):\n",
    "        if isinstance(i, str) or isinstance(j, str):\n",
    "            return \"Alguno de tus arrays contiene algún string, no es iterable\"\n",
    "\n",
    "    if a.shape[0] != b.shape[0]:\n",
    "        return \"Los arrays tienen tamaños diferentes\"\n",
    "    else:\n",
    "        a = np.sort(a)\n",
    "        b = np.sort(b)\n",
    "\n",
    "        return np.sum(np.abs(a - b))\n",
    "\n",
    "a = [4, 1, 8, 7]\n",
    "b = [2, 3, 6, 5]\n",
    "\n",
    "print(absolute_difference(a, b))\n"
   ]
  }
 ],
 "metadata": {
  "language_info": {
   "name": "python"
  }
 },
 "nbformat": 4,
 "nbformat_minor": 2
}
