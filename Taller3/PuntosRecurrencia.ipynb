{
 "cells": [
  {
   "cell_type": "markdown",
   "metadata": {},
   "source": [
    "# Puntos de recurrencia\n",
    "\n",
    "## 1) Ecuacion\n",
    "$$ a_n -6a_{n-1} + 9a_{n-2} = 0 , n=>2, a_0=5,a_1=12 $$\n",
    "\n",
    "- **Orden = 2**\n",
    "\n",
    "- **Grado 1**\n",
    "\n",
    "- **Homogeneo**\n",
    "\n",
    "- **Constante**"
   ]
  },
  {
   "cell_type": "markdown",
   "metadata": {},
   "source": [
    "**Esta ecuacion ya esta organizada de mayor a menor por lo tanto no hace falta hacer este proceso**\n",
    "\n",
    "**Lo siguiente es aplicar la formula cuadratica para poder factorizar los coeficientes**\n",
    "\n",
    "$$ ax^{2}+x+c $$\n",
    "\n",
    "$$ x^{2}-6x+9 $$"
   ]
  },
  {
   "cell_type": "code",
   "execution_count": 49,
   "metadata": {},
   "outputs": [
    {
     "data": {
      "text/plain": [
       "[3]"
      ]
     },
     "execution_count": 49,
     "metadata": {},
     "output_type": "execute_result"
    }
   ],
   "source": [
    "from sympy import symbols,solve,Eq\n",
    "\n",
    "x=symbols(\"x\")\n",
    "\n",
    "factorizacion=solve(x**2-(6*x)+9)\n",
    "\n",
    "factorizacion\n"
   ]
  },
  {
   "cell_type": "markdown",
   "metadata": {},
   "source": [
    "**Tenemos un solo resultado que es 3 por lo tanto es una solucion con raices iguales**\n",
    "\n",
    "$$ a_n=k_1r_1^{n}+k_2nr_1^{n}$$\n",
    "\n",
    "**Nos estan dando 2 casos base para sacar nuestra ecuacion 2x2 a_0=5 , a_1=12**"
   ]
  },
  {
   "cell_type": "code",
   "execution_count": 50,
   "metadata": {},
   "outputs": [],
   "source": [
    "nombre=len(\"cristian\")\n",
    "\n",
    "a_0=5*nombre\n",
    "\n",
    "a_1=12*nombre\n",
    "\n",
    "k1=symbols(\"k1\")\n",
    "\n",
    "k2=symbols(\"k2\")\n",
    "\n",
    "ecuacion_1=Eq((k1*factorizacion[0]**a_0 + k2*a_0*factorizacion[0]**a_0),(a_0))\n",
    "\n",
    "ecuacion_2=Eq((k1*factorizacion[0]**a_1 + k2*a_1*factorizacion[0]**a_1),(a_1))\n"
   ]
  },
  {
   "cell_type": "markdown",
   "metadata": {},
   "source": [
    "**Con esto ya tenemos nuestras ecuaciones ya planeadas solo es resolver y remplazar en la ecuacion**"
   ]
  },
  {
   "cell_type": "code",
   "execution_count": 51,
   "metadata": {},
   "outputs": [
    {
     "data": {
      "text/plain": [
       "[83735621284377685954161843200/14846266029317198836441267112589913205410504749,\n",
       " -872246055045600895355852531/14846266029317198836441267112589913205410504749]"
      ]
     },
     "execution_count": 51,
     "metadata": {},
     "output_type": "execute_result"
    }
   ],
   "source": [
    "k_constantes=solve((ecuacion_1,ecuacion_2),(k1,k2))\n",
    "\n",
    "k_constantes=list(k_constantes.values())\n",
    "\n",
    "k_constantes"
   ]
  },
  {
   "cell_type": "markdown",
   "metadata": {},
   "source": [
    "**Listo , ahora podemos hallar nuestra ecuacion general**\n",
    "\n",
    "$$ a_n=k_1r_1^{n}+k_2nr_1^{n}$$\n"
   ]
  },
  {
   "cell_type": "code",
   "execution_count": 52,
   "metadata": {},
   "outputs": [
    {
     "name": "stdout",
     "output_type": "stream",
     "text": [
      "a_n= 83735621284377685954161843200/14846266029317198836441267112589913205410504749*3^n + -872246055045600895355852531/14846266029317198836441267112589913205410504749*n*3^n\n"
     ]
    }
   ],
   "source": [
    "general=f\"a_n= {k_constantes[0]}*{factorizacion[0]}^n + {k_constantes[1]}*n*{factorizacion[0]}^n\"\n",
    "\n",
    "print(general)\n"
   ]
  },
  {
   "cell_type": "markdown",
   "metadata": {},
   "source": [
    "**Tenemos un numero muy grande y cuando lo metemos en la funcion facilmente se necesita aumentar un limite a 50000000 numeros para poder visualizarse, por lo tante vamos a normalizar el numero para trabajar con uno equivalente pero mas pequeño**\n",
    "\n"
   ]
  },
  {
   "cell_type": "code",
   "execution_count": 53,
   "metadata": {},
   "outputs": [],
   "source": [
    "def ecuacion_n(n:float)->float:\n",
    "\n",
    "    return k_constantes[0]*((factorizacion[0])**n) + k_constantes[1]*n*((factorizacion[0])**n)\n"
   ]
  },
  {
   "cell_type": "code",
   "execution_count": 54,
   "metadata": {},
   "outputs": [
    {
     "name": "stdout",
     "output_type": "stream",
     "text": [
      "0.151145018\n"
     ]
    }
   ],
   "source": [
    "n = 151145018\n",
    "max_value = 1000000000  \n",
    "\n",
    "normalizado = n / max_value\n",
    "\n",
    "print(normalizado)"
   ]
  },
  {
   "cell_type": "code",
   "execution_count": 55,
   "metadata": {},
   "outputs": [
    {
     "name": "stdout",
     "output_type": "stream",
     "text": [
      "6.64849283865387e-18\n"
     ]
    }
   ],
   "source": [
    "print(ecuacion_n(normalizado))\n"
   ]
  },
  {
   "cell_type": "markdown",
   "metadata": {},
   "source": [
    "## Modo recursivo\n",
    "\n",
    "**Usar la recursion en esta ecuacion es bastante simple , gracias a que tiene\n",
    "Una respuesta real y que todo el tema de la resolucion de ecuaciones y operaciones la resuelve sympy, por lo tanto podemos crear una funcion recursiva que nos resuelva nuestra relacion de recurrencia**"
   ]
  },
  {
   "cell_type": "code",
   "execution_count": 56,
   "metadata": {},
   "outputs": [],
   "source": [
    "def ecuacion_n_recursiva(n):\n",
    "    if n == 0:\n",
    "        return a_0\n",
    "    elif n == 1:\n",
    "        return a_1\n",
    "    elif n >= 2:\n",
    "        return factorizacion[0]*ecuacion_n_recursiva(n-1) + factorizacion[0]*n*ecuacion_n_recursiva(n-1)\n",
    "\n"
   ]
  },
  {
   "cell_type": "markdown",
   "metadata": {},
   "source": [
    "**Tenemos 2 casos base especiales en donde:**\n",
    "\n",
    "-  Cuando $n$ = 0 entonces la relacion de recurrencia es igual al valor del extremo $a_0$,\n",
    "\n",
    "-  Cuando $n$ = 1 su recurrencia es igual a $a_1$\n",
    "\n",
    "**Por otro lado tambien hay que entender que la relacion de recurrencia solamente es posible fuera de los casos base cuando $n>=2$ esto sale de propio plantamiento del ejercicio, cuando esto es posible empieza la funcion recursiva**\n",
    "\n",
    "La Llamada recursiva ocurre en el último condicional `elif n >= `  Aquí, la función se llama a sí misma con el argumento $n-1$. Esto quiere decirque para calcular el valor de n en la recurrencia primero se necesita hallar su valor -1 en la linea `ecuacion_n_recursiva(n-1)`.Este proceso se repite hasta que llegamos a uno de nuestros casos base.\n",
    "\n",
    "Ya cuando  llegamos a uno de los casos base, podemos comenzar a desempaquetarse, Cada llamada recursion se reemplaza por el valor que devuelve esa llamada, y luego se realiza el cálculo en la última línea de la función."
   ]
  },
  {
   "cell_type": "markdown",
   "metadata": {},
   "source": [
    "**¿Diferencias entre la version recursiva y no recursiva?**\n",
    "\n",
    "**No recursiva**: En este caso como usamos la libreria matematica como sympy , su desarollo es mas facil y sencillo, igualmente simpy esta mas optimizado para este tipo de operaciones pero igualmente cuando hay numeros muy grandes quizas la operacion no la pueda abarcar y tendriamos que expandir el codigo o modificarlo\n",
    "\n",
    "**Recursividad**: Este proceso es mucho mas lento y mas pesado en este caso, sinceramente no es rentable aplicarle recursividad cuando aplicamos sympy , lo mas recomendable es aplicarle una normalizacion al numero para que quede mas pequeño y manejable sin embargo a pesar de esto puede que el proceso siga siendo igual de extenso"
   ]
  },
  {
   "cell_type": "markdown",
   "metadata": {},
   "source": [
    "# Puntos de recurrencia\n",
    "\n",
    "## 2) Ecuacion\n",
    "$$ a_n + 2a_{n-1} + 2a_{n-2} = 0 , n=>2, a_0=1,a_1=3 $$"
   ]
  },
  {
   "cell_type": "markdown",
   "metadata": {},
   "source": [
    "**Lo siguiente es aplicar la formula cuadratica para poder factorizar los coeficientes**\n",
    "\n",
    "$$ x^{2} + 2x + 2 $$"
   ]
  },
  {
   "cell_type": "code",
   "execution_count": 57,
   "metadata": {},
   "outputs": [
    {
     "data": {
      "text/plain": [
       "[-1 - I, -1 + I]"
      ]
     },
     "execution_count": 57,
     "metadata": {},
     "output_type": "execute_result"
    }
   ],
   "source": [
    "from sympy import symbols,solve,Eq\n",
    "\n",
    "x=symbols(\"x\")\n",
    "\n",
    "factorizacion_imaginaria=solve(x**2+2*x+2)\n",
    "\n",
    "factorizacion_imaginaria"
   ]
  },
  {
   "cell_type": "markdown",
   "metadata": {},
   "source": [
    "**Tenemos que el resultado de las raices nos da un numero IMAGINARIO, por lo tanto recurriremos a usa la formula**\n",
    "\n",
    "$$Z_{n} = \\overline{Z}_{1} + \\overline{Z}_{2}$$\n",
    "\n",
    "**Por tanto, podemos concluir con que la recurrencia no tiene solucion en los numero s reales y nos quedaria de la siguiente forma**\n",
    "\n",
    "$$Z_{n} = (-1-I)\\overline{Z}_{1} + (-1+I)\\overline{Z}_{2}$$\n",
    "\n",
    "**Entonces, tenemos lo siguiente**\n",
    "\n",
    "**Orden = 2**\n",
    "\n",
    "**Grado 1**\n",
    "\n",
    "**Homogeneo**\n",
    "\n",
    "**Constante**\n",
    "\n",
    "**Debido a que la raiz nos da un numero imaginario, no podemos hacer el codigo de forma recursiva debido a que no nos es posible operar en los reales**\n"
   ]
  }
 ],
 "metadata": {
  "kernelspec": {
   "display_name": "Python 3",
   "language": "python",
   "name": "python3"
  },
  "language_info": {
   "codemirror_mode": {
    "name": "ipython",
    "version": 3
   },
   "file_extension": ".py",
   "mimetype": "text/x-python",
   "name": "python",
   "nbconvert_exporter": "python",
   "pygments_lexer": "ipython3",
   "version": "3.10.12"
  }
 },
 "nbformat": 4,
 "nbformat_minor": 2
}
